{
 "cells": [
  {
   "cell_type": "markdown",
   "id": "825b2901",
   "metadata": {},
   "source": [
    "# Activity 3.2 – Recoding and Aggregating a Health Care Survey\n",
    "\n",
    "## Part 1 – Three ways to recode\n",
    "\n",
    "Before we get the the main event, let’s practice recoding the survey\n",
    "data in three ways. In all cases, our goal is to assign a score of `5` to\n",
    "`\"Strongly Agree\"` down to a score of `1` to `\"Strongly Disagree\"`.\n",
    "\n",
    "| Old Label                    | Regular Coded Value |\n",
    "|------------------------------|---------------------|\n",
    "| `\"Strongly Disagree\"`          | 1                   |\n",
    "| `\"Somewhat Disagree\"`          | 2                   |\n",
    "| `\"Neither Agree nor Disagree\"` | 3                   |\n",
    "| `\"Somewhat Agree\"`             | 4                   |\n",
    "| `\"Strongly Agree\"`             | 5                   |\n",
    "\n",
    "**Preparation.** Recall that the `more_dfply.recode` function allows us to\n",
    "recode a column using a `dict`."
   ]
  },
  {
   "cell_type": "markdown",
   "id": "3b2b70c6",
   "metadata": {},
   "source": [
    "1.  Load the health survey data found in the data folder.  Inspect the column names, then fix the issues with the `\".\"`s.  **Hint.** We can use `dfply.rename` with the `dict` unpacking trick."
   ]
  },
  {
   "cell_type": "code",
   "execution_count": 1,
   "id": "23521352",
   "metadata": {},
   "outputs": [],
   "source": [
    "import pandas as pd\n",
    "from dfply import *\n"
   ]
  },
  {
   "cell_type": "code",
   "execution_count": 2,
   "id": "528afe94",
   "metadata": {},
   "outputs": [
    {
     "data": {
      "text/plain": [
       "<dfply.base.pipe at 0x7f8ca367a580>"
      ]
     },
     "execution_count": 2,
     "metadata": {},
     "output_type": "execute_result"
    }
   ],
   "source": [
    "survey = pd.read_csv(\"./data/health_survey.csv\")\n",
    "head(survey)"
   ]
  },
  {
   "cell_type": "code",
   "execution_count": 3,
   "id": "c9556fa0",
   "metadata": {},
   "outputs": [
    {
     "data": {
      "text/html": [
       "<div>\n",
       "<style scoped>\n",
       "    .dataframe tbody tr th:only-of-type {\n",
       "        vertical-align: middle;\n",
       "    }\n",
       "\n",
       "    .dataframe tbody tr th {\n",
       "        vertical-align: top;\n",
       "    }\n",
       "\n",
       "    .dataframe thead th {\n",
       "        text-align: right;\n",
       "    }\n",
       "</style>\n",
       "<table border=\"1\" class=\"dataframe\">\n",
       "  <thead>\n",
       "    <tr style=\"text-align: right;\">\n",
       "      <th></th>\n",
       "      <th>ID</th>\n",
       "      <th>F1</th>\n",
       "      <th>F5</th>\n",
       "      <th>F2</th>\n",
       "      <th>F1.1</th>\n",
       "      <th>F2.1</th>\n",
       "      <th>F6</th>\n",
       "      <th>F4</th>\n",
       "      <th>F3</th>\n",
       "      <th>F5.1</th>\n",
       "      <th>...</th>\n",
       "      <th>F2.9</th>\n",
       "      <th>F3.4</th>\n",
       "      <th>F4.3</th>\n",
       "      <th>F2.10</th>\n",
       "      <th>F1.7</th>\n",
       "      <th>F6.4</th>\n",
       "      <th>F4.4</th>\n",
       "      <th>F5.7</th>\n",
       "      <th>F3.5</th>\n",
       "      <th>F2.11</th>\n",
       "    </tr>\n",
       "  </thead>\n",
       "  <tbody>\n",
       "    <tr>\n",
       "      <th>0</th>\n",
       "      <td>1</td>\n",
       "      <td>Somewhat Agree</td>\n",
       "      <td>Somewhat Disagree</td>\n",
       "      <td>Somewhat Agree</td>\n",
       "      <td>Somewhat Agree</td>\n",
       "      <td>Somewhat Agree</td>\n",
       "      <td>Somewhat Disagree</td>\n",
       "      <td>Somewhat Agree</td>\n",
       "      <td>Somewhat Agree</td>\n",
       "      <td>Somewhat Agree</td>\n",
       "      <td>...</td>\n",
       "      <td>Somewhat Agree</td>\n",
       "      <td>Somewhat Disagree</td>\n",
       "      <td>Neither Agree nor Disagree</td>\n",
       "      <td>Somewhat Agree</td>\n",
       "      <td>Somewhat Agree</td>\n",
       "      <td>Somewhat Agree</td>\n",
       "      <td>Somewhat Agree</td>\n",
       "      <td>Somewhat Agree</td>\n",
       "      <td>Somewhat Agree</td>\n",
       "      <td>Somewhat Agree</td>\n",
       "    </tr>\n",
       "    <tr>\n",
       "      <th>1</th>\n",
       "      <td>2</td>\n",
       "      <td>Somewhat Agree</td>\n",
       "      <td>Somewhat Disagree</td>\n",
       "      <td>Somewhat Agree</td>\n",
       "      <td>Somewhat Agree</td>\n",
       "      <td>Somewhat Agree</td>\n",
       "      <td>Somewhat Disagree</td>\n",
       "      <td>Somewhat Agree</td>\n",
       "      <td>Neither Agree nor Disagree</td>\n",
       "      <td>Neither Agree nor Disagree</td>\n",
       "      <td>...</td>\n",
       "      <td>Somewhat Agree</td>\n",
       "      <td>Somewhat Agree</td>\n",
       "      <td>Neither Agree nor Disagree</td>\n",
       "      <td>Somewhat Agree</td>\n",
       "      <td>Somewhat Agree</td>\n",
       "      <td>Somewhat Disagree</td>\n",
       "      <td>Neither Agree nor Disagree</td>\n",
       "      <td>Somewhat Agree</td>\n",
       "      <td>Neither Agree nor Disagree</td>\n",
       "      <td>Somewhat Agree</td>\n",
       "    </tr>\n",
       "  </tbody>\n",
       "</table>\n",
       "<p>2 rows × 45 columns</p>\n",
       "</div>"
      ],
      "text/plain": [
       "   ID              F1                 F5              F2            F1.1  \\\n",
       "0   1  Somewhat Agree  Somewhat Disagree  Somewhat Agree  Somewhat Agree   \n",
       "1   2  Somewhat Agree  Somewhat Disagree  Somewhat Agree  Somewhat Agree   \n",
       "\n",
       "             F2.1                 F6              F4  \\\n",
       "0  Somewhat Agree  Somewhat Disagree  Somewhat Agree   \n",
       "1  Somewhat Agree  Somewhat Disagree  Somewhat Agree   \n",
       "\n",
       "                           F3                        F5.1  ...  \\\n",
       "0              Somewhat Agree              Somewhat Agree  ...   \n",
       "1  Neither Agree nor Disagree  Neither Agree nor Disagree  ...   \n",
       "\n",
       "             F2.9               F3.4                        F4.3  \\\n",
       "0  Somewhat Agree  Somewhat Disagree  Neither Agree nor Disagree   \n",
       "1  Somewhat Agree     Somewhat Agree  Neither Agree nor Disagree   \n",
       "\n",
       "            F2.10            F1.7               F6.4  \\\n",
       "0  Somewhat Agree  Somewhat Agree     Somewhat Agree   \n",
       "1  Somewhat Agree  Somewhat Agree  Somewhat Disagree   \n",
       "\n",
       "                         F4.4            F5.7                        F3.5  \\\n",
       "0              Somewhat Agree  Somewhat Agree              Somewhat Agree   \n",
       "1  Neither Agree nor Disagree  Somewhat Agree  Neither Agree nor Disagree   \n",
       "\n",
       "            F2.11  \n",
       "0  Somewhat Agree  \n",
       "1  Somewhat Agree  \n",
       "\n",
       "[2 rows x 45 columns]"
      ]
     },
     "execution_count": 3,
     "metadata": {},
     "output_type": "execute_result"
    }
   ],
   "source": [
    "survey.head(2)"
   ]
  },
  {
   "cell_type": "code",
   "execution_count": 4,
   "id": "976d21bc",
   "metadata": {},
   "outputs": [
    {
     "data": {
      "text/plain": [
       "Index(['ID', 'F1', 'F5', 'F2', 'F1.1', 'F2.1', 'F6', 'F4', 'F3', 'F5.1',\n",
       "       'F1.2', 'F2.2', 'F6.1', 'F2.3', 'F4.1', 'F2.4', 'F5.2', 'F2.5', 'F6.2',\n",
       "       'F1.3', 'F2.6', 'F5.3', 'F4.2', 'F2.7', 'F3.1', 'F2.8', 'F5.4', 'F3.2',\n",
       "       'F1.4', 'F3.3', 'F1.5', 'F5.5', 'F6.3', 'F1.6', 'F5.6', 'F2.9', 'F3.4',\n",
       "       'F4.3', 'F2.10', 'F1.7', 'F6.4', 'F4.4', 'F5.7', 'F3.5', 'F2.11'],\n",
       "      dtype='object')"
      ]
     },
     "execution_count": 4,
     "metadata": {},
     "output_type": "execute_result"
    }
   ],
   "source": [
    "survey.columns"
   ]
  },
  {
   "cell_type": "code",
   "execution_count": 5,
   "id": "51241ec9",
   "metadata": {},
   "outputs": [
    {
     "data": {
      "text/plain": [
       "'F2_2'"
      ]
     },
     "execution_count": 5,
     "metadata": {},
     "output_type": "execute_result"
    }
   ],
   "source": [
    "c = 'F2.2'\n",
    "c.replace('.','_')"
   ]
  },
  {
   "cell_type": "code",
   "execution_count": 6,
   "id": "99212912",
   "metadata": {},
   "outputs": [
    {
     "data": {
      "text/plain": [
       "{'ID': 'ID',\n",
       " 'F1': 'F1',\n",
       " 'F5': 'F5',\n",
       " 'F2': 'F2',\n",
       " 'F1_1': 'F1.1',\n",
       " 'F2_1': 'F2.1',\n",
       " 'F6': 'F6',\n",
       " 'F4': 'F4',\n",
       " 'F3': 'F3',\n",
       " 'F5_1': 'F5.1',\n",
       " 'F1_2': 'F1.2',\n",
       " 'F2_2': 'F2.2',\n",
       " 'F6_1': 'F6.1',\n",
       " 'F2_3': 'F2.3',\n",
       " 'F4_1': 'F4.1',\n",
       " 'F2_4': 'F2.4',\n",
       " 'F5_2': 'F5.2',\n",
       " 'F2_5': 'F2.5',\n",
       " 'F6_2': 'F6.2',\n",
       " 'F1_3': 'F1.3',\n",
       " 'F2_6': 'F2.6',\n",
       " 'F5_3': 'F5.3',\n",
       " 'F4_2': 'F4.2',\n",
       " 'F2_7': 'F2.7',\n",
       " 'F3_1': 'F3.1',\n",
       " 'F2_8': 'F2.8',\n",
       " 'F5_4': 'F5.4',\n",
       " 'F3_2': 'F3.2',\n",
       " 'F1_4': 'F1.4',\n",
       " 'F3_3': 'F3.3',\n",
       " 'F1_5': 'F1.5',\n",
       " 'F5_5': 'F5.5',\n",
       " 'F6_3': 'F6.3',\n",
       " 'F1_6': 'F1.6',\n",
       " 'F5_6': 'F5.6',\n",
       " 'F2_9': 'F2.9',\n",
       " 'F3_4': 'F3.4',\n",
       " 'F4_3': 'F4.3',\n",
       " 'F2_10': 'F2.10',\n",
       " 'F1_7': 'F1.7',\n",
       " 'F6_4': 'F6.4',\n",
       " 'F4_4': 'F4.4',\n",
       " 'F5_7': 'F5.7',\n",
       " 'F3_5': 'F3.5',\n",
       " 'F2_11': 'F2.11'}"
      ]
     },
     "execution_count": 6,
     "metadata": {},
     "output_type": "execute_result"
    }
   ],
   "source": [
    "new_names = {c.replace('.','_'):c for c in survey.columns}\n",
    "new_names"
   ]
  },
  {
   "cell_type": "code",
   "execution_count": 7,
   "id": "04ee3884",
   "metadata": {},
   "outputs": [
    {
     "data": {
      "text/html": [
       "<div>\n",
       "<style scoped>\n",
       "    .dataframe tbody tr th:only-of-type {\n",
       "        vertical-align: middle;\n",
       "    }\n",
       "\n",
       "    .dataframe tbody tr th {\n",
       "        vertical-align: top;\n",
       "    }\n",
       "\n",
       "    .dataframe thead th {\n",
       "        text-align: right;\n",
       "    }\n",
       "</style>\n",
       "<table border=\"1\" class=\"dataframe\">\n",
       "  <thead>\n",
       "    <tr style=\"text-align: right;\">\n",
       "      <th></th>\n",
       "      <th>ID</th>\n",
       "      <th>F1</th>\n",
       "      <th>F5</th>\n",
       "      <th>F2</th>\n",
       "      <th>F1_1</th>\n",
       "      <th>F2_1</th>\n",
       "      <th>F6</th>\n",
       "      <th>F4</th>\n",
       "      <th>F3</th>\n",
       "      <th>F5_1</th>\n",
       "      <th>...</th>\n",
       "      <th>F2_9</th>\n",
       "      <th>F3_4</th>\n",
       "      <th>F4_3</th>\n",
       "      <th>F2_10</th>\n",
       "      <th>F1_7</th>\n",
       "      <th>F6_4</th>\n",
       "      <th>F4_4</th>\n",
       "      <th>F5_7</th>\n",
       "      <th>F3_5</th>\n",
       "      <th>F2_11</th>\n",
       "    </tr>\n",
       "  </thead>\n",
       "  <tbody>\n",
       "    <tr>\n",
       "      <th>0</th>\n",
       "      <td>1</td>\n",
       "      <td>Somewhat Agree</td>\n",
       "      <td>Somewhat Disagree</td>\n",
       "      <td>Somewhat Agree</td>\n",
       "      <td>Somewhat Agree</td>\n",
       "      <td>Somewhat Agree</td>\n",
       "      <td>Somewhat Disagree</td>\n",
       "      <td>Somewhat Agree</td>\n",
       "      <td>Somewhat Agree</td>\n",
       "      <td>Somewhat Agree</td>\n",
       "      <td>...</td>\n",
       "      <td>Somewhat Agree</td>\n",
       "      <td>Somewhat Disagree</td>\n",
       "      <td>Neither Agree nor Disagree</td>\n",
       "      <td>Somewhat Agree</td>\n",
       "      <td>Somewhat Agree</td>\n",
       "      <td>Somewhat Agree</td>\n",
       "      <td>Somewhat Agree</td>\n",
       "      <td>Somewhat Agree</td>\n",
       "      <td>Somewhat Agree</td>\n",
       "      <td>Somewhat Agree</td>\n",
       "    </tr>\n",
       "    <tr>\n",
       "      <th>1</th>\n",
       "      <td>2</td>\n",
       "      <td>Somewhat Agree</td>\n",
       "      <td>Somewhat Disagree</td>\n",
       "      <td>Somewhat Agree</td>\n",
       "      <td>Somewhat Agree</td>\n",
       "      <td>Somewhat Agree</td>\n",
       "      <td>Somewhat Disagree</td>\n",
       "      <td>Somewhat Agree</td>\n",
       "      <td>Neither Agree nor Disagree</td>\n",
       "      <td>Neither Agree nor Disagree</td>\n",
       "      <td>...</td>\n",
       "      <td>Somewhat Agree</td>\n",
       "      <td>Somewhat Agree</td>\n",
       "      <td>Neither Agree nor Disagree</td>\n",
       "      <td>Somewhat Agree</td>\n",
       "      <td>Somewhat Agree</td>\n",
       "      <td>Somewhat Disagree</td>\n",
       "      <td>Neither Agree nor Disagree</td>\n",
       "      <td>Somewhat Agree</td>\n",
       "      <td>Neither Agree nor Disagree</td>\n",
       "      <td>Somewhat Agree</td>\n",
       "    </tr>\n",
       "  </tbody>\n",
       "</table>\n",
       "<p>2 rows × 45 columns</p>\n",
       "</div>"
      ],
      "text/plain": [
       "   ID              F1                 F5              F2            F1_1  \\\n",
       "0   1  Somewhat Agree  Somewhat Disagree  Somewhat Agree  Somewhat Agree   \n",
       "1   2  Somewhat Agree  Somewhat Disagree  Somewhat Agree  Somewhat Agree   \n",
       "\n",
       "             F2_1                 F6              F4  \\\n",
       "0  Somewhat Agree  Somewhat Disagree  Somewhat Agree   \n",
       "1  Somewhat Agree  Somewhat Disagree  Somewhat Agree   \n",
       "\n",
       "                           F3                        F5_1  ...  \\\n",
       "0              Somewhat Agree              Somewhat Agree  ...   \n",
       "1  Neither Agree nor Disagree  Neither Agree nor Disagree  ...   \n",
       "\n",
       "             F2_9               F3_4                        F4_3  \\\n",
       "0  Somewhat Agree  Somewhat Disagree  Neither Agree nor Disagree   \n",
       "1  Somewhat Agree     Somewhat Agree  Neither Agree nor Disagree   \n",
       "\n",
       "            F2_10            F1_7               F6_4  \\\n",
       "0  Somewhat Agree  Somewhat Agree     Somewhat Agree   \n",
       "1  Somewhat Agree  Somewhat Agree  Somewhat Disagree   \n",
       "\n",
       "                         F4_4            F5_7                        F3_5  \\\n",
       "0              Somewhat Agree  Somewhat Agree              Somewhat Agree   \n",
       "1  Neither Agree nor Disagree  Somewhat Agree  Neither Agree nor Disagree   \n",
       "\n",
       "            F2_11  \n",
       "0  Somewhat Agree  \n",
       "1  Somewhat Agree  \n",
       "\n",
       "[2 rows x 45 columns]"
      ]
     },
     "execution_count": 7,
     "metadata": {},
     "output_type": "execute_result"
    }
   ],
   "source": [
    "survey = pd.read_csv('./data/health_survey.csv') >> rename(**new_names)\n",
    "survey.head(2)"
   ]
  },
  {
   "cell_type": "markdown",
   "id": "b62acdb2",
   "metadata": {},
   "source": [
    "2.  Use `unique` to verify the labels of various columns. Create a `dict` mapping each survey responses to the corresponding score."
   ]
  },
  {
   "cell_type": "code",
   "execution_count": 8,
   "id": "8d0efba2",
   "metadata": {},
   "outputs": [
    {
     "data": {
      "text/plain": [
       "Index(['ID', 'F1', 'F5', 'F2', 'F1_1', 'F2_1', 'F6', 'F4', 'F3', 'F5_1',\n",
       "       'F1_2', 'F2_2', 'F6_1', 'F2_3', 'F4_1', 'F2_4', 'F5_2', 'F2_5', 'F6_2',\n",
       "       'F1_3', 'F2_6', 'F5_3', 'F4_2', 'F2_7', 'F3_1', 'F2_8', 'F5_4', 'F3_2',\n",
       "       'F1_4', 'F3_3', 'F1_5', 'F5_5', 'F6_3', 'F1_6', 'F5_6', 'F2_9', 'F3_4',\n",
       "       'F4_3', 'F2_10', 'F1_7', 'F6_4', 'F4_4', 'F5_7', 'F3_5', 'F2_11'],\n",
       "      dtype='object')"
      ]
     },
     "execution_count": 8,
     "metadata": {},
     "output_type": "execute_result"
    }
   ],
   "source": [
    "survey.columns.unique()"
   ]
  },
  {
   "cell_type": "code",
   "execution_count": 9,
   "id": "3c947b39",
   "metadata": {},
   "outputs": [
    {
     "data": {
      "text/plain": [
       "{'Strongly Agree': 5,\n",
       " 'Somewhat Agree': 4,\n",
       " 'Neither Agree nor Disagree': 3,\n",
       " 'Somewhat Disagree': 2,\n",
       " 'Strongly Disagree': 1}"
      ]
     },
     "execution_count": 9,
     "metadata": {},
     "output_type": "execute_result"
    }
   ],
   "source": [
    "new_answer = {'Strongly Agree': 5, 'Somewhat Agree': 4, 'Neither Agree nor Disagree': 3, 'Somewhat Disagree': 2, 'Strongly Disagree': 1}\n",
    "new_answer"
   ]
  },
  {
   "cell_type": "markdown",
   "id": "767142e8",
   "metadata": {},
   "source": [
    "3.  Test your dictionary with the `map` method on one of the columns.  The columns `F2` and `F1.1` are good test cases."
   ]
  },
  {
   "cell_type": "code",
   "execution_count": 10,
   "id": "280df3f2",
   "metadata": {},
   "outputs": [
    {
     "data": {
      "text/plain": [
       "{'Strongly Agree': 5,\n",
       " 'Somewhat Agree': 4,\n",
       " 'Neither Agree nor Disagree': 3,\n",
       " 'Somewhat Disagree': 2,\n",
       " 'Strongly Disagree': 1}"
      ]
     },
     "execution_count": 10,
     "metadata": {},
     "output_type": "execute_result"
    }
   ],
   "source": [
    "new_answer = {'Strongly Agree': 5, 'Somewhat Agree': 4, 'Neither Agree nor Disagree': 3, 'Somewhat Disagree': 2, 'Strongly Disagree': 1}\n",
    "new_answer"
   ]
  },
  {
   "cell_type": "code",
   "execution_count": 11,
   "id": "d849e0c0",
   "metadata": {},
   "outputs": [
    {
     "data": {
      "text/plain": [
       "0    4\n",
       "1    4\n",
       "Name: F1, dtype: Int64"
      ]
     },
     "execution_count": 11,
     "metadata": {},
     "output_type": "execute_result"
    }
   ],
   "source": [
    "survey.F1.map(new_answer).astype('Int64').head(2)"
   ]
  },
  {
   "cell_type": "code",
   "execution_count": 12,
   "id": "3a7d25d2",
   "metadata": {},
   "outputs": [
    {
     "data": {
      "text/plain": [
       "0    4\n",
       "1    4\n",
       "Name: F2, dtype: Int64"
      ]
     },
     "execution_count": 12,
     "metadata": {},
     "output_type": "execute_result"
    }
   ],
   "source": [
    "survey['F2'].map(new_answer).astype('Int64').head(2)"
   ]
  },
  {
   "cell_type": "code",
   "execution_count": 13,
   "id": "7e5bbbe6",
   "metadata": {},
   "outputs": [
    {
     "data": {
      "text/plain": [
       "0    4\n",
       "1    4\n",
       "Name: F1_1, dtype: Int64"
      ]
     },
     "execution_count": 13,
     "metadata": {},
     "output_type": "execute_result"
    }
   ],
   "source": [
    "c = 'F1_1'\n",
    "survey[c].map(new_answer).astype('Int64').head(2)"
   ]
  },
  {
   "cell_type": "markdown",
   "id": "c64fead3",
   "metadata": {},
   "source": [
    "4. Explain why you should be using the `pandas` `Int64` data type here.  Details on the necessity and use of this data type can be found in [Lecture 2.4](https://github.com/wsu-stat489/module2_intro_to_pandas/blob/main/2_4_pandas_dtypes.ipynb)"
   ]
  },
  {
   "cell_type": "markdown",
   "id": "2a327e57",
   "metadata": {},
   "source": [
    "<font color=\"blue\"> *Your thoughts here* </font>"
   ]
  },
  {
   "cell_type": "markdown",
   "id": "b0ad440c",
   "metadata": {},
   "source": [
    "#### Method 1 – Brute Force. \n",
    "\n",
    "The naïve approach to applying our mapping\n",
    "is the construct a `mutate`, writing one line per column. This will become\n",
    "annoying."
   ]
  },
  {
   "cell_type": "markdown",
   "id": "7504ac51",
   "metadata": {},
   "source": [
    "1.  Create a pipe that uses `mutate` to transform at least 10 of the columns."
   ]
  },
  {
   "cell_type": "code",
   "execution_count": 14,
   "id": "6597492b",
   "metadata": {},
   "outputs": [
    {
     "data": {
      "text/html": [
       "<div>\n",
       "<style scoped>\n",
       "    .dataframe tbody tr th:only-of-type {\n",
       "        vertical-align: middle;\n",
       "    }\n",
       "\n",
       "    .dataframe tbody tr th {\n",
       "        vertical-align: top;\n",
       "    }\n",
       "\n",
       "    .dataframe thead th {\n",
       "        text-align: right;\n",
       "    }\n",
       "</style>\n",
       "<table border=\"1\" class=\"dataframe\">\n",
       "  <thead>\n",
       "    <tr style=\"text-align: right;\">\n",
       "      <th></th>\n",
       "      <th>ID</th>\n",
       "      <th>F1</th>\n",
       "      <th>F5</th>\n",
       "      <th>F2</th>\n",
       "      <th>F1_1</th>\n",
       "      <th>F2_1</th>\n",
       "      <th>F6</th>\n",
       "      <th>F4</th>\n",
       "      <th>F3</th>\n",
       "      <th>F5_1</th>\n",
       "      <th>...</th>\n",
       "      <th>F2_9</th>\n",
       "      <th>F3_4</th>\n",
       "      <th>F4_3</th>\n",
       "      <th>F2_10</th>\n",
       "      <th>F1_7</th>\n",
       "      <th>F6_4</th>\n",
       "      <th>F4_4</th>\n",
       "      <th>F5_7</th>\n",
       "      <th>F3_5</th>\n",
       "      <th>F2_11</th>\n",
       "    </tr>\n",
       "  </thead>\n",
       "  <tbody>\n",
       "    <tr>\n",
       "      <th>0</th>\n",
       "      <td>1</td>\n",
       "      <td>4</td>\n",
       "      <td>2.0</td>\n",
       "      <td>4.0</td>\n",
       "      <td>4</td>\n",
       "      <td>4.0</td>\n",
       "      <td>2</td>\n",
       "      <td>4</td>\n",
       "      <td>4.0</td>\n",
       "      <td>4</td>\n",
       "      <td>...</td>\n",
       "      <td>Somewhat Agree</td>\n",
       "      <td>Somewhat Disagree</td>\n",
       "      <td>Neither Agree nor Disagree</td>\n",
       "      <td>Somewhat Agree</td>\n",
       "      <td>Somewhat Agree</td>\n",
       "      <td>Somewhat Agree</td>\n",
       "      <td>Somewhat Agree</td>\n",
       "      <td>Somewhat Agree</td>\n",
       "      <td>Somewhat Agree</td>\n",
       "      <td>Somewhat Agree</td>\n",
       "    </tr>\n",
       "    <tr>\n",
       "      <th>1</th>\n",
       "      <td>2</td>\n",
       "      <td>4</td>\n",
       "      <td>2.0</td>\n",
       "      <td>4.0</td>\n",
       "      <td>4</td>\n",
       "      <td>4.0</td>\n",
       "      <td>2</td>\n",
       "      <td>4</td>\n",
       "      <td>3.0</td>\n",
       "      <td>3</td>\n",
       "      <td>...</td>\n",
       "      <td>Somewhat Agree</td>\n",
       "      <td>Somewhat Agree</td>\n",
       "      <td>Neither Agree nor Disagree</td>\n",
       "      <td>Somewhat Agree</td>\n",
       "      <td>Somewhat Agree</td>\n",
       "      <td>Somewhat Disagree</td>\n",
       "      <td>Neither Agree nor Disagree</td>\n",
       "      <td>Somewhat Agree</td>\n",
       "      <td>Neither Agree nor Disagree</td>\n",
       "      <td>Somewhat Agree</td>\n",
       "    </tr>\n",
       "  </tbody>\n",
       "</table>\n",
       "<p>2 rows × 45 columns</p>\n",
       "</div>"
      ],
      "text/plain": [
       "   ID  F1   F5   F2  F1_1  F2_1  F6  F4   F3  F5_1  ...            F2_9  \\\n",
       "0   1   4  2.0  4.0     4   4.0   2   4  4.0     4  ...  Somewhat Agree   \n",
       "1   2   4  2.0  4.0     4   4.0   2   4  3.0     3  ...  Somewhat Agree   \n",
       "\n",
       "                F3_4                        F4_3           F2_10  \\\n",
       "0  Somewhat Disagree  Neither Agree nor Disagree  Somewhat Agree   \n",
       "1     Somewhat Agree  Neither Agree nor Disagree  Somewhat Agree   \n",
       "\n",
       "             F1_7               F6_4                        F4_4  \\\n",
       "0  Somewhat Agree     Somewhat Agree              Somewhat Agree   \n",
       "1  Somewhat Agree  Somewhat Disagree  Neither Agree nor Disagree   \n",
       "\n",
       "             F5_7                        F3_5           F2_11  \n",
       "0  Somewhat Agree              Somewhat Agree  Somewhat Agree  \n",
       "1  Somewhat Agree  Neither Agree nor Disagree  Somewhat Agree  \n",
       "\n",
       "[2 rows x 45 columns]"
      ]
     },
     "execution_count": 14,
     "metadata": {},
     "output_type": "execute_result"
    }
   ],
   "source": [
    "(survey\n",
    ">> mutate(F1 = X.F1.map(new_answer),\n",
    "          F2 = X.F2.map(new_answer),\n",
    "          F3 = X.F3.map(new_answer),\n",
    "          F4 = X.F4.map(new_answer),\n",
    "          F5 = X.F5.map(new_answer),\n",
    "          F6 = X.F6.map(new_answer),\n",
    "          F1_1 = X.F1_1.map(new_answer),\n",
    "          F2_1 = X.F2_1.map(new_answer),\n",
    "          F3_1 = X.F3_1.map(new_answer),\n",
    "          F4_1 = X.F4_1.map(new_answer),\n",
    "          F5_1 = X.F5_1.map(new_answer),\n",
    "          F6_1 = X.F6_1.map(new_answer))\n",
    "\n",
    "          \n",
    " >> head(2)  \n",
    ")       "
   ]
  },
  {
   "cell_type": "markdown",
   "id": "96b6a5d8",
   "metadata": {},
   "source": [
    "2.  Explain,\n",
    "\n",
    "    1.  in vivid detail, exactly how annoying it would be to continue\n",
    "        this process.\n",
    "\n",
    "    "
   ]
  },
  {
   "cell_type": "markdown",
   "id": "ac60edf0",
   "metadata": {},
   "source": [
    "It would be very annoying to continue this process."
   ]
  },
  {
   "cell_type": "markdown",
   "id": "6e48993e",
   "metadata": {},
   "source": [
    "    B.  how this might be prone to buggy code."
   ]
  },
  {
   "cell_type": "markdown",
   "id": "9788e2cf",
   "metadata": {},
   "source": [
    "<font color=\"blue\"> *Your thoughts here* </font>"
   ]
  },
  {
   "cell_type": "markdown",
   "id": "5efe9615",
   "metadata": {},
   "source": [
    "#### Method 2 – dictionary unpacking. \n",
    "\n",
    "Recall that we cleaned up repeated,\n",
    "similar transformations in [Lecture 3.5](https://github.com/wsu-stat489/module3_more_about_mutate/blob/main/3_5_DRY_and_many_transformations.ipynb). Let’s apply that approach here.\n",
    "\n",
    "1.  Get a `list` of all the questions columns, e.g., using `dfply.columns_from`."
   ]
  },
  {
   "cell_type": "code",
   "execution_count": 29,
   "id": "c3983cf0",
   "metadata": {},
   "outputs": [
    {
     "data": {
      "text/plain": [
       "['F1', 'F5', 'F2', 'F1_1', 'F2_1']"
      ]
     },
     "execution_count": 29,
     "metadata": {},
     "output_type": "execute_result"
    }
   ],
   "source": [
    "columns_to_recode = columns_from('F1').evaluate(survey)\n",
    "columns_to_recode[0:5]"
   ]
  },
  {
   "cell_type": "markdown",
   "id": "101809bb",
   "metadata": {},
   "source": [
    "2.  Pick one of the columns and write the expression to transform that\n",
    "    column. Be sure to use the `df[\"col_string\"]` method of referencing\n",
    "    the column."
   ]
  },
  {
   "cell_type": "code",
   "execution_count": 30,
   "id": "2d6db866",
   "metadata": {},
   "outputs": [
    {
     "data": {
      "text/plain": [
       "0    4\n",
       "1    4\n",
       "Name: F2, dtype: Int64"
      ]
     },
     "execution_count": 30,
     "metadata": {},
     "output_type": "execute_result"
    }
   ],
   "source": [
    "survey['F2'].map(new_answer).astype('Int64').head(2)"
   ]
  },
  {
   "cell_type": "code",
   "execution_count": 31,
   "id": "2c5a0f0b",
   "metadata": {},
   "outputs": [
    {
     "ename": "SyntaxError",
     "evalue": "invalid syntax (3493228355.py, line 1)",
     "output_type": "error",
     "traceback": [
      "\u001b[0;36m  Input \u001b[0;32mIn [31]\u001b[0;36m\u001b[0m\n\u001b[0;31m    {c = dict().survey[c].map(new_answer).astype('Int64').head(2)\u001b[0m\n\u001b[0m       ^\u001b[0m\n\u001b[0;31mSyntaxError\u001b[0m\u001b[0;31m:\u001b[0m invalid syntax\n"
     ]
    }
   ],
   "source": [
    "{c = dict() survey[c].map(new_answer).astype('Int64').head(2)\n",
    "\n",
    "}"
   ]
  },
  {
   "cell_type": "markdown",
   "id": "6d6527a9",
   "metadata": {},
   "source": [
    "3.  Create a variable to hold this column string. Replace the hard coded\n",
    "    column name with a variable. Rerun to test.  "
   ]
  },
  {
   "cell_type": "code",
   "execution_count": 18,
   "id": "d311e7bd",
   "metadata": {},
   "outputs": [
    {
     "data": {
      "text/plain": [
       "0    4\n",
       "1    4\n",
       "Name: F1, dtype: Int64"
      ]
     },
     "execution_count": 18,
     "metadata": {},
     "output_type": "execute_result"
    }
   ],
   "source": [
    "c = 'F1'\n",
    "survey[c].map(new_answer).astype('Int64').head(2)"
   ]
  },
  {
   "cell_type": "markdown",
   "id": "303aaf80",
   "metadata": {},
   "source": [
    "4.  Convert the single expression to a `dict` using a comprehension\n",
    "    that iterates over all column names. We want the keys to the be the\n",
    "    column names and values the resulting recoded columns.  Rerun to\n",
    "    test. Clean up the code by packaging the complexity in `lambda` functions."
   ]
  },
  {
   "cell_type": "code",
   "execution_count": 28,
   "id": "abdef127",
   "metadata": {},
   "outputs": [
    {
     "data": {
      "text/plain": [
       "{'F1': 0    4\n",
       " 1    4\n",
       " Name: F1, dtype: Int64,\n",
       " 'F5': 0    2\n",
       " 1    2\n",
       " Name: F5, dtype: Int64,\n",
       " 'F2': 0    4\n",
       " 1    4\n",
       " Name: F2, dtype: Int64,\n",
       " 'F1_1': 0    4\n",
       " 1    4\n",
       " Name: F1_1, dtype: Int64,\n",
       " 'F2_1': 0    4\n",
       " 1    4\n",
       " Name: F2_1, dtype: Int64,\n",
       " 'F6': 0    2\n",
       " 1    2\n",
       " Name: F6, dtype: Int64,\n",
       " 'F4': 0    4\n",
       " 1    4\n",
       " Name: F4, dtype: Int64,\n",
       " 'F3': 0    4\n",
       " 1    3\n",
       " Name: F3, dtype: Int64,\n",
       " 'F5_1': 0    4\n",
       " 1    3\n",
       " Name: F5_1, dtype: Int64,\n",
       " 'F1_2': 0    4\n",
       " 1    4\n",
       " Name: F1_2, dtype: Int64,\n",
       " 'F2_2': 0    4\n",
       " 1    3\n",
       " Name: F2_2, dtype: Int64,\n",
       " 'F6_1': 0    4\n",
       " 1    4\n",
       " Name: F6_1, dtype: Int64,\n",
       " 'F2_3': 0    4\n",
       " 1    4\n",
       " Name: F2_3, dtype: Int64,\n",
       " 'F4_1': 0    4\n",
       " 1    3\n",
       " Name: F4_1, dtype: Int64,\n",
       " 'F2_4': 0    4\n",
       " 1    4\n",
       " Name: F2_4, dtype: Int64,\n",
       " 'F5_2': 0    4\n",
       " 1    4\n",
       " Name: F5_2, dtype: Int64,\n",
       " 'F2_5': 0    4\n",
       " 1    4\n",
       " Name: F2_5, dtype: Int64,\n",
       " 'F6_2': 0    4\n",
       " 1    4\n",
       " Name: F6_2, dtype: Int64,\n",
       " 'F1_3': 0    4\n",
       " 1    4\n",
       " Name: F1_3, dtype: Int64,\n",
       " 'F2_6': 0    4\n",
       " 1    4\n",
       " Name: F2_6, dtype: Int64,\n",
       " 'F5_3': 0    4\n",
       " 1    4\n",
       " Name: F5_3, dtype: Int64,\n",
       " 'F4_2': 0    4\n",
       " 1    4\n",
       " Name: F4_2, dtype: Int64,\n",
       " 'F2_7': 0    4\n",
       " 1    4\n",
       " Name: F2_7, dtype: Int64,\n",
       " 'F3_1': 0    2\n",
       " 1    3\n",
       " Name: F3_1, dtype: Int64,\n",
       " 'F2_8': 0    4\n",
       " 1    4\n",
       " Name: F2_8, dtype: Int64,\n",
       " 'F5_4': 0    4\n",
       " 1    3\n",
       " Name: F5_4, dtype: Int64,\n",
       " 'F3_2': 0    4\n",
       " 1    3\n",
       " Name: F3_2, dtype: Int64,\n",
       " 'F1_4': 0    3\n",
       " 1    4\n",
       " Name: F1_4, dtype: Int64,\n",
       " 'F3_3': 0    4\n",
       " 1    3\n",
       " Name: F3_3, dtype: Int64,\n",
       " 'F1_5': 0    4\n",
       " 1    3\n",
       " Name: F1_5, dtype: Int64,\n",
       " 'F5_5': 0    2\n",
       " 1    3\n",
       " Name: F5_5, dtype: Int64,\n",
       " 'F6_3': 0    2\n",
       " 1    2\n",
       " Name: F6_3, dtype: Int64,\n",
       " 'F1_6': 0    4\n",
       " 1    4\n",
       " Name: F1_6, dtype: Int64,\n",
       " 'F5_6': 0    4\n",
       " 1    2\n",
       " Name: F5_6, dtype: Int64,\n",
       " 'F2_9': 0    4\n",
       " 1    4\n",
       " Name: F2_9, dtype: Int64,\n",
       " 'F3_4': 0    2\n",
       " 1    4\n",
       " Name: F3_4, dtype: Int64,\n",
       " 'F4_3': 0    3\n",
       " 1    3\n",
       " Name: F4_3, dtype: Int64,\n",
       " 'F2_10': 0    4\n",
       " 1    4\n",
       " Name: F2_10, dtype: Int64,\n",
       " 'F1_7': 0    4\n",
       " 1    4\n",
       " Name: F1_7, dtype: Int64,\n",
       " 'F6_4': 0    4\n",
       " 1    2\n",
       " Name: F6_4, dtype: Int64,\n",
       " 'F4_4': 0    4\n",
       " 1    3\n",
       " Name: F4_4, dtype: Int64,\n",
       " 'F5_7': 0    4\n",
       " 1    4\n",
       " Name: F5_7, dtype: Int64,\n",
       " 'F3_5': 0    4\n",
       " 1    3\n",
       " Name: F3_5, dtype: Int64,\n",
       " 'F2_11': 0    4\n",
       " 1    4\n",
       " Name: F2_11, dtype: Int64}"
      ]
     },
     "execution_count": 28,
     "metadata": {},
     "output_type": "execute_result"
    }
   ],
   "source": [
    "reg_recode = {c : survey[c]\n",
    "                  .map(new_answer)\n",
    "                  .astype('Int64')\n",
    "                  .head(2)\n",
    "                for c in columns_to_recode\n",
    "             }\n",
    "reg_recode            "
   ]
  },
  {
   "cell_type": "markdown",
   "id": "30254687",
   "metadata": {},
   "source": [
    "5.  Use our dictionary in a mutate using `**` unpacking.  "
   ]
  },
  {
   "cell_type": "code",
   "execution_count": 20,
   "id": "36277292",
   "metadata": {},
   "outputs": [
    {
     "data": {
      "text/html": [
       "<div>\n",
       "<style scoped>\n",
       "    .dataframe tbody tr th:only-of-type {\n",
       "        vertical-align: middle;\n",
       "    }\n",
       "\n",
       "    .dataframe tbody tr th {\n",
       "        vertical-align: top;\n",
       "    }\n",
       "\n",
       "    .dataframe thead th {\n",
       "        text-align: right;\n",
       "    }\n",
       "</style>\n",
       "<table border=\"1\" class=\"dataframe\">\n",
       "  <thead>\n",
       "    <tr style=\"text-align: right;\">\n",
       "      <th></th>\n",
       "      <th>ID</th>\n",
       "      <th>F1</th>\n",
       "      <th>F5</th>\n",
       "      <th>F2</th>\n",
       "      <th>F1_1</th>\n",
       "      <th>F2_1</th>\n",
       "      <th>F6</th>\n",
       "      <th>F4</th>\n",
       "      <th>F3</th>\n",
       "      <th>F5_1</th>\n",
       "      <th>...</th>\n",
       "      <th>F2_9</th>\n",
       "      <th>F3_4</th>\n",
       "      <th>F4_3</th>\n",
       "      <th>F2_10</th>\n",
       "      <th>F1_7</th>\n",
       "      <th>F6_4</th>\n",
       "      <th>F4_4</th>\n",
       "      <th>F5_7</th>\n",
       "      <th>F3_5</th>\n",
       "      <th>F2_11</th>\n",
       "    </tr>\n",
       "  </thead>\n",
       "  <tbody>\n",
       "    <tr>\n",
       "      <th>0</th>\n",
       "      <td>1</td>\n",
       "      <td>4</td>\n",
       "      <td>2</td>\n",
       "      <td>4</td>\n",
       "      <td>4</td>\n",
       "      <td>4</td>\n",
       "      <td>2</td>\n",
       "      <td>4</td>\n",
       "      <td>4</td>\n",
       "      <td>4</td>\n",
       "      <td>...</td>\n",
       "      <td>4</td>\n",
       "      <td>2</td>\n",
       "      <td>3</td>\n",
       "      <td>4</td>\n",
       "      <td>4</td>\n",
       "      <td>4</td>\n",
       "      <td>4</td>\n",
       "      <td>4</td>\n",
       "      <td>4</td>\n",
       "      <td>4</td>\n",
       "    </tr>\n",
       "    <tr>\n",
       "      <th>1</th>\n",
       "      <td>2</td>\n",
       "      <td>4</td>\n",
       "      <td>2</td>\n",
       "      <td>4</td>\n",
       "      <td>4</td>\n",
       "      <td>4</td>\n",
       "      <td>2</td>\n",
       "      <td>4</td>\n",
       "      <td>3</td>\n",
       "      <td>3</td>\n",
       "      <td>...</td>\n",
       "      <td>4</td>\n",
       "      <td>4</td>\n",
       "      <td>3</td>\n",
       "      <td>4</td>\n",
       "      <td>4</td>\n",
       "      <td>2</td>\n",
       "      <td>3</td>\n",
       "      <td>4</td>\n",
       "      <td>3</td>\n",
       "      <td>4</td>\n",
       "    </tr>\n",
       "  </tbody>\n",
       "</table>\n",
       "<p>2 rows × 45 columns</p>\n",
       "</div>"
      ],
      "text/plain": [
       "   ID  F1  F5  F2  F1_1  F2_1  F6  F4  F3  F5_1  ...  F2_9  F3_4  F4_3  F2_10  \\\n",
       "0   1   4   2   4     4     4   2   4   4     4  ...     4     2     3      4   \n",
       "1   2   4   2   4     4     4   2   4   3     3  ...     4     4     3      4   \n",
       "\n",
       "   F1_7  F6_4  F4_4  F5_7  F3_5  F2_11  \n",
       "0     4     4     4     4     4      4  \n",
       "1     4     2     3     4     3      4  \n",
       "\n",
       "[2 rows x 45 columns]"
      ]
     },
     "execution_count": 20,
     "metadata": {},
     "output_type": "execute_result"
    }
   ],
   "source": [
    "(survey\n",
    ">> mutate(**reg_recode)\n",
    ">> head(2))"
   ]
  },
  {
   "cell_type": "markdown",
   "id": "53c66325",
   "metadata": {},
   "source": [
    "#### Method 3 – Stack Transform Unstack. \n",
    "\n",
    "Another method for applying the\n",
    "same transformation to multiple columns is to (A) stack all the columns\n",
    "that need transformation, (B) applying the transformation to the stacked\n",
    "values column, and (C) unstacking the data back into the original shape.\n",
    "This is the approach you will apply in **Part 2**."
   ]
  },
  {
   "cell_type": "markdown",
   "id": "bca4ee74",
   "metadata": {},
   "source": [
    "## Part 2 – Performing data preparation\n",
    "\n",
    "Dr. Bergen, Director of the Statistical Consulting Center at WSU, needs\n",
    "you to prepare the attached data for analysis. The file\n",
    "**health_survey.csv** contains the responses to a series of\n",
    "health-related questions and we need to recode the responses as 1-5\n",
    "using the definition below. It is important to note that the clients\n",
    "consider “Strongly Agree” the best answer for most of the questions\n",
    "coded and want it mapped to 5, but there are a handful of questions for\n",
    "which they want the mapping reversed as “Strongly Disagree” the\n",
    "preferred answer. The two types of codings are illustrated in the table\n",
    "shown below and the list of questions that should receive the reverse\n",
    "coding are available in the file **ReverseCodingItems.csv**.\n",
    "\n",
    "| Old Label                    | Regular Coded Value | Reverse Coding |\n",
    "|------------------------------|---------------------|----------------|\n",
    "| “Strongly Disagree”          | 1                   | 5              |\n",
    "| “Somewhat Disagree”          | 2                   | 4              |\n",
    "| “Neither Agree nor Disagree” | 3                   | 3              |\n",
    "| “Somewhat Agree”             | 4                   | 2              |\n",
    "| “Strongly Agree”             | 5                   | 1              |\n",
    "\n",
    "**Note.** I have prototyped this process in JMP and have provided screenshots of the resulting tables as a guide."
   ]
  },
  {
   "cell_type": "markdown",
   "id": "5031bd40",
   "metadata": {},
   "source": [
    "1.  Read in the `ReverseCodingItems.csv` file.  Note that the names in the `\"Column Name\"` column contain `\".\"`s.  Fix this, then look at the questions that need reverse coding and explain why it makes sense to reverse the coding on these items."
   ]
  },
  {
   "cell_type": "markdown",
   "id": "ef8feb5c",
   "metadata": {},
   "source": [
    "Some questions actually explicit negative responses."
   ]
  },
  {
   "cell_type": "markdown",
   "id": "2d8220bf",
   "metadata": {},
   "source": [
    "2. Next, you will perform the data preparation by completing each of\n",
    "    the tasks listed below.  First, *Stack* the response columns.\n",
    "\n",
    "<img src=\"img/media/image1.png\" style=\"width:2.91924in;height:1.85212in\" alt=\"../../../../Desktop/Screen%20Shot%202018-03-22%20at%201.30.46%20\" />\n",
    "\n",
    "Work in a pipe and add a temporary `head` at the end."
   ]
  },
  {
   "cell_type": "code",
   "execution_count": 25,
   "id": "745aa139",
   "metadata": {},
   "outputs": [
    {
     "name": "stderr",
     "output_type": "stream",
     "text": [
      "/home/samwooden/.pyenv/versions/anaconda3-2022.05/lib/python3.9/site-packages/dfply/base.py:81: FutureWarning: The default value of regex will change from True to False in a future version. In addition, single character regular expressions will *not* be treated as literal strings when regex=True.\n",
      "  return Intention(lambda x: self.function(x)(*_context_args(args)(x),\n"
     ]
    },
    {
     "data": {
      "text/html": [
       "<div>\n",
       "<style scoped>\n",
       "    .dataframe tbody tr th:only-of-type {\n",
       "        vertical-align: middle;\n",
       "    }\n",
       "\n",
       "    .dataframe tbody tr th {\n",
       "        vertical-align: top;\n",
       "    }\n",
       "\n",
       "    .dataframe thead th {\n",
       "        text-align: right;\n",
       "    }\n",
       "</style>\n",
       "<table border=\"1\" class=\"dataframe\">\n",
       "  <thead>\n",
       "    <tr style=\"text-align: right;\">\n",
       "      <th></th>\n",
       "      <th>Question</th>\n",
       "      <th>Construct</th>\n",
       "      <th>Question # on Qualtrics Survey</th>\n",
       "      <th>Needs Reverse Coding?</th>\n",
       "      <th>Column Name</th>\n",
       "    </tr>\n",
       "  </thead>\n",
       "  <tbody>\n",
       "    <tr>\n",
       "      <th>0</th>\n",
       "      <td>F1</td>\n",
       "      <td>1</td>\n",
       "      <td>1</td>\n",
       "      <td>No</td>\n",
       "      <td>F1</td>\n",
       "    </tr>\n",
       "    <tr>\n",
       "      <th>1</th>\n",
       "      <td>F5</td>\n",
       "      <td>5</td>\n",
       "      <td>2</td>\n",
       "      <td>Yes</td>\n",
       "      <td>F5</td>\n",
       "    </tr>\n",
       "    <tr>\n",
       "      <th>2</th>\n",
       "      <td>F2</td>\n",
       "      <td>2</td>\n",
       "      <td>3</td>\n",
       "      <td>No</td>\n",
       "      <td>F2</td>\n",
       "    </tr>\n",
       "    <tr>\n",
       "      <th>3</th>\n",
       "      <td>F1_1</td>\n",
       "      <td>1</td>\n",
       "      <td>4</td>\n",
       "      <td>No</td>\n",
       "      <td>F1.1</td>\n",
       "    </tr>\n",
       "    <tr>\n",
       "      <th>4</th>\n",
       "      <td>F2_1</td>\n",
       "      <td>2</td>\n",
       "      <td>5</td>\n",
       "      <td>No</td>\n",
       "      <td>F2.1</td>\n",
       "    </tr>\n",
       "    <tr>\n",
       "      <th>5</th>\n",
       "      <td>F6</td>\n",
       "      <td>6</td>\n",
       "      <td>6</td>\n",
       "      <td>Yes</td>\n",
       "      <td>F6</td>\n",
       "    </tr>\n",
       "    <tr>\n",
       "      <th>6</th>\n",
       "      <td>F4</td>\n",
       "      <td>4</td>\n",
       "      <td>7</td>\n",
       "      <td>No</td>\n",
       "      <td>F4</td>\n",
       "    </tr>\n",
       "    <tr>\n",
       "      <th>7</th>\n",
       "      <td>F3</td>\n",
       "      <td>3</td>\n",
       "      <td>8</td>\n",
       "      <td>No</td>\n",
       "      <td>F3</td>\n",
       "    </tr>\n",
       "    <tr>\n",
       "      <th>8</th>\n",
       "      <td>F5_1</td>\n",
       "      <td>5</td>\n",
       "      <td>9</td>\n",
       "      <td>No</td>\n",
       "      <td>F5.1</td>\n",
       "    </tr>\n",
       "    <tr>\n",
       "      <th>9</th>\n",
       "      <td>F1_2</td>\n",
       "      <td>1</td>\n",
       "      <td>10</td>\n",
       "      <td>No</td>\n",
       "      <td>F1.2</td>\n",
       "    </tr>\n",
       "    <tr>\n",
       "      <th>10</th>\n",
       "      <td>F2_2</td>\n",
       "      <td>2</td>\n",
       "      <td>11</td>\n",
       "      <td>No</td>\n",
       "      <td>F2.2</td>\n",
       "    </tr>\n",
       "    <tr>\n",
       "      <th>11</th>\n",
       "      <td>F6_1</td>\n",
       "      <td>6</td>\n",
       "      <td>12</td>\n",
       "      <td>No</td>\n",
       "      <td>F6.1</td>\n",
       "    </tr>\n",
       "    <tr>\n",
       "      <th>12</th>\n",
       "      <td>F2_3</td>\n",
       "      <td>2</td>\n",
       "      <td>13</td>\n",
       "      <td>No</td>\n",
       "      <td>F2.3</td>\n",
       "    </tr>\n",
       "    <tr>\n",
       "      <th>13</th>\n",
       "      <td>F4_1</td>\n",
       "      <td>4</td>\n",
       "      <td>14</td>\n",
       "      <td>Yes</td>\n",
       "      <td>F4.1</td>\n",
       "    </tr>\n",
       "    <tr>\n",
       "      <th>14</th>\n",
       "      <td>F2_4</td>\n",
       "      <td>2</td>\n",
       "      <td>15</td>\n",
       "      <td>No</td>\n",
       "      <td>F2.4</td>\n",
       "    </tr>\n",
       "    <tr>\n",
       "      <th>15</th>\n",
       "      <td>F5_2</td>\n",
       "      <td>5</td>\n",
       "      <td>16</td>\n",
       "      <td>Yes</td>\n",
       "      <td>F5.2</td>\n",
       "    </tr>\n",
       "    <tr>\n",
       "      <th>16</th>\n",
       "      <td>F2_5</td>\n",
       "      <td>2</td>\n",
       "      <td>17</td>\n",
       "      <td>No</td>\n",
       "      <td>F2.5</td>\n",
       "    </tr>\n",
       "    <tr>\n",
       "      <th>17</th>\n",
       "      <td>F6_2</td>\n",
       "      <td>6</td>\n",
       "      <td>18</td>\n",
       "      <td>No</td>\n",
       "      <td>F6.2</td>\n",
       "    </tr>\n",
       "    <tr>\n",
       "      <th>18</th>\n",
       "      <td>F1_3</td>\n",
       "      <td>1</td>\n",
       "      <td>19</td>\n",
       "      <td>No</td>\n",
       "      <td>F1.3</td>\n",
       "    </tr>\n",
       "    <tr>\n",
       "      <th>19</th>\n",
       "      <td>F2_6</td>\n",
       "      <td>2</td>\n",
       "      <td>20</td>\n",
       "      <td>No</td>\n",
       "      <td>F2.6</td>\n",
       "    </tr>\n",
       "    <tr>\n",
       "      <th>20</th>\n",
       "      <td>F5_3</td>\n",
       "      <td>5</td>\n",
       "      <td>21</td>\n",
       "      <td>No</td>\n",
       "      <td>F5.3</td>\n",
       "    </tr>\n",
       "    <tr>\n",
       "      <th>21</th>\n",
       "      <td>F4_2</td>\n",
       "      <td>4</td>\n",
       "      <td>22</td>\n",
       "      <td>No</td>\n",
       "      <td>F4.2</td>\n",
       "    </tr>\n",
       "    <tr>\n",
       "      <th>22</th>\n",
       "      <td>F2_7</td>\n",
       "      <td>2</td>\n",
       "      <td>23</td>\n",
       "      <td>No</td>\n",
       "      <td>F2.7</td>\n",
       "    </tr>\n",
       "    <tr>\n",
       "      <th>23</th>\n",
       "      <td>F3_1</td>\n",
       "      <td>3</td>\n",
       "      <td>24</td>\n",
       "      <td>No</td>\n",
       "      <td>F3.1</td>\n",
       "    </tr>\n",
       "    <tr>\n",
       "      <th>24</th>\n",
       "      <td>F2_8</td>\n",
       "      <td>2</td>\n",
       "      <td>25</td>\n",
       "      <td>No</td>\n",
       "      <td>F2.8</td>\n",
       "    </tr>\n",
       "    <tr>\n",
       "      <th>25</th>\n",
       "      <td>F5_4</td>\n",
       "      <td>5</td>\n",
       "      <td>26</td>\n",
       "      <td>No</td>\n",
       "      <td>F5.4</td>\n",
       "    </tr>\n",
       "    <tr>\n",
       "      <th>26</th>\n",
       "      <td>F3_2</td>\n",
       "      <td>3</td>\n",
       "      <td>27</td>\n",
       "      <td>No</td>\n",
       "      <td>F3.2</td>\n",
       "    </tr>\n",
       "    <tr>\n",
       "      <th>27</th>\n",
       "      <td>F1_4</td>\n",
       "      <td>1</td>\n",
       "      <td>28</td>\n",
       "      <td>No</td>\n",
       "      <td>F1.4</td>\n",
       "    </tr>\n",
       "    <tr>\n",
       "      <th>28</th>\n",
       "      <td>F3_3</td>\n",
       "      <td>3</td>\n",
       "      <td>29</td>\n",
       "      <td>No</td>\n",
       "      <td>F3.3</td>\n",
       "    </tr>\n",
       "    <tr>\n",
       "      <th>29</th>\n",
       "      <td>F1_5</td>\n",
       "      <td>1</td>\n",
       "      <td>30</td>\n",
       "      <td>No</td>\n",
       "      <td>F1.5</td>\n",
       "    </tr>\n",
       "    <tr>\n",
       "      <th>30</th>\n",
       "      <td>F5_5</td>\n",
       "      <td>5</td>\n",
       "      <td>31</td>\n",
       "      <td>Yes</td>\n",
       "      <td>F5.5</td>\n",
       "    </tr>\n",
       "    <tr>\n",
       "      <th>31</th>\n",
       "      <td>F6_3</td>\n",
       "      <td>6</td>\n",
       "      <td>32</td>\n",
       "      <td>Yes</td>\n",
       "      <td>F6.3</td>\n",
       "    </tr>\n",
       "    <tr>\n",
       "      <th>32</th>\n",
       "      <td>F1_6</td>\n",
       "      <td>1</td>\n",
       "      <td>33</td>\n",
       "      <td>No</td>\n",
       "      <td>F1.6</td>\n",
       "    </tr>\n",
       "    <tr>\n",
       "      <th>33</th>\n",
       "      <td>F5_6</td>\n",
       "      <td>5</td>\n",
       "      <td>34</td>\n",
       "      <td>Yes</td>\n",
       "      <td>F5.6</td>\n",
       "    </tr>\n",
       "    <tr>\n",
       "      <th>34</th>\n",
       "      <td>F2_9</td>\n",
       "      <td>2</td>\n",
       "      <td>35</td>\n",
       "      <td>No</td>\n",
       "      <td>F2.9</td>\n",
       "    </tr>\n",
       "    <tr>\n",
       "      <th>35</th>\n",
       "      <td>F3_4</td>\n",
       "      <td>3</td>\n",
       "      <td>36</td>\n",
       "      <td>No</td>\n",
       "      <td>F3.4</td>\n",
       "    </tr>\n",
       "    <tr>\n",
       "      <th>36</th>\n",
       "      <td>F4_3</td>\n",
       "      <td>4</td>\n",
       "      <td>37</td>\n",
       "      <td>Yes</td>\n",
       "      <td>F4.3</td>\n",
       "    </tr>\n",
       "    <tr>\n",
       "      <th>37</th>\n",
       "      <td>F2_10</td>\n",
       "      <td>2</td>\n",
       "      <td>38</td>\n",
       "      <td>No</td>\n",
       "      <td>F2.10</td>\n",
       "    </tr>\n",
       "    <tr>\n",
       "      <th>38</th>\n",
       "      <td>F1_7</td>\n",
       "      <td>1</td>\n",
       "      <td>39</td>\n",
       "      <td>No</td>\n",
       "      <td>F1.7</td>\n",
       "    </tr>\n",
       "    <tr>\n",
       "      <th>39</th>\n",
       "      <td>F6_4</td>\n",
       "      <td>6</td>\n",
       "      <td>40</td>\n",
       "      <td>Yes</td>\n",
       "      <td>F6.4</td>\n",
       "    </tr>\n",
       "    <tr>\n",
       "      <th>40</th>\n",
       "      <td>F4_4</td>\n",
       "      <td>4</td>\n",
       "      <td>41</td>\n",
       "      <td>No</td>\n",
       "      <td>F4.4</td>\n",
       "    </tr>\n",
       "    <tr>\n",
       "      <th>41</th>\n",
       "      <td>F5_7</td>\n",
       "      <td>5</td>\n",
       "      <td>42</td>\n",
       "      <td>No</td>\n",
       "      <td>F5.7</td>\n",
       "    </tr>\n",
       "    <tr>\n",
       "      <th>42</th>\n",
       "      <td>F3_5</td>\n",
       "      <td>3</td>\n",
       "      <td>43</td>\n",
       "      <td>No</td>\n",
       "      <td>F3.5</td>\n",
       "    </tr>\n",
       "    <tr>\n",
       "      <th>43</th>\n",
       "      <td>F2_11</td>\n",
       "      <td>2</td>\n",
       "      <td>44</td>\n",
       "      <td>No</td>\n",
       "      <td>F2.11</td>\n",
       "    </tr>\n",
       "  </tbody>\n",
       "</table>\n",
       "</div>"
      ],
      "text/plain": [
       "   Question  Construct  Question # on Qualtrics Survey Needs Reverse Coding?  \\\n",
       "0        F1          1                               1                    No   \n",
       "1        F5          5                               2                   Yes   \n",
       "2        F2          2                               3                    No   \n",
       "3      F1_1          1                               4                    No   \n",
       "4      F2_1          2                               5                    No   \n",
       "5        F6          6                               6                   Yes   \n",
       "6        F4          4                               7                    No   \n",
       "7        F3          3                               8                    No   \n",
       "8      F5_1          5                               9                    No   \n",
       "9      F1_2          1                              10                    No   \n",
       "10     F2_2          2                              11                    No   \n",
       "11     F6_1          6                              12                    No   \n",
       "12     F2_3          2                              13                    No   \n",
       "13     F4_1          4                              14                   Yes   \n",
       "14     F2_4          2                              15                    No   \n",
       "15     F5_2          5                              16                   Yes   \n",
       "16     F2_5          2                              17                    No   \n",
       "17     F6_2          6                              18                    No   \n",
       "18     F1_3          1                              19                    No   \n",
       "19     F2_6          2                              20                    No   \n",
       "20     F5_3          5                              21                    No   \n",
       "21     F4_2          4                              22                    No   \n",
       "22     F2_7          2                              23                    No   \n",
       "23     F3_1          3                              24                    No   \n",
       "24     F2_8          2                              25                    No   \n",
       "25     F5_4          5                              26                    No   \n",
       "26     F3_2          3                              27                    No   \n",
       "27     F1_4          1                              28                    No   \n",
       "28     F3_3          3                              29                    No   \n",
       "29     F1_5          1                              30                    No   \n",
       "30     F5_5          5                              31                   Yes   \n",
       "31     F6_3          6                              32                   Yes   \n",
       "32     F1_6          1                              33                    No   \n",
       "33     F5_6          5                              34                   Yes   \n",
       "34     F2_9          2                              35                    No   \n",
       "35     F3_4          3                              36                    No   \n",
       "36     F4_3          4                              37                   Yes   \n",
       "37    F2_10          2                              38                    No   \n",
       "38     F1_7          1                              39                    No   \n",
       "39     F6_4          6                              40                   Yes   \n",
       "40     F4_4          4                              41                    No   \n",
       "41     F5_7          5                              42                    No   \n",
       "42     F3_5          3                              43                    No   \n",
       "43    F2_11          2                              44                    No   \n",
       "\n",
       "   Column Name  \n",
       "0           F1  \n",
       "1           F5  \n",
       "2           F2  \n",
       "3         F1.1  \n",
       "4         F2.1  \n",
       "5           F6  \n",
       "6           F4  \n",
       "7           F3  \n",
       "8         F5.1  \n",
       "9         F1.2  \n",
       "10        F2.2  \n",
       "11        F6.1  \n",
       "12        F2.3  \n",
       "13        F4.1  \n",
       "14        F2.4  \n",
       "15        F5.2  \n",
       "16        F2.5  \n",
       "17        F6.2  \n",
       "18        F1.3  \n",
       "19        F2.6  \n",
       "20        F5.3  \n",
       "21        F4.2  \n",
       "22        F2.7  \n",
       "23        F3.1  \n",
       "24        F2.8  \n",
       "25        F5.4  \n",
       "26        F3.2  \n",
       "27        F1.4  \n",
       "28        F3.3  \n",
       "29        F1.5  \n",
       "30        F5.5  \n",
       "31        F6.3  \n",
       "32        F1.6  \n",
       "33        F5.6  \n",
       "34        F2.9  \n",
       "35        F3.4  \n",
       "36        F4.3  \n",
       "37       F2.10  \n",
       "38        F1.7  \n",
       "39        F6.4  \n",
       "40        F4.4  \n",
       "41        F5.7  \n",
       "42        F3.5  \n",
       "43       F2.11  "
      ]
     },
     "execution_count": 25,
     "metadata": {},
     "output_type": "execute_result"
    }
   ],
   "source": [
    "reverse_coding = (pd.read_csv('./data/ReverseCodingItems.csv')\n",
    "        >> mutate(Question = X['Column Name'].str.replace('.', '_'))\n",
    "    )\n",
    "reverse_coding"
   ]
  },
  {
   "cell_type": "code",
   "execution_count": 37,
   "id": "e4fd661b",
   "metadata": {},
   "outputs": [
    {
     "data": {
      "text/html": [
       "<div>\n",
       "<style scoped>\n",
       "    .dataframe tbody tr th:only-of-type {\n",
       "        vertical-align: middle;\n",
       "    }\n",
       "\n",
       "    .dataframe tbody tr th {\n",
       "        vertical-align: top;\n",
       "    }\n",
       "\n",
       "    .dataframe thead th {\n",
       "        text-align: right;\n",
       "    }\n",
       "</style>\n",
       "<table border=\"1\" class=\"dataframe\">\n",
       "  <thead>\n",
       "    <tr style=\"text-align: right;\">\n",
       "      <th></th>\n",
       "      <th>ID</th>\n",
       "      <th>Question</th>\n",
       "      <th>Response</th>\n",
       "      <th>Needs Reverse Coding?</th>\n",
       "    </tr>\n",
       "  </thead>\n",
       "  <tbody>\n",
       "    <tr>\n",
       "      <th>0</th>\n",
       "      <td>1</td>\n",
       "      <td>F1</td>\n",
       "      <td>Somewhat Agree</td>\n",
       "      <td>No</td>\n",
       "    </tr>\n",
       "    <tr>\n",
       "      <th>1</th>\n",
       "      <td>2</td>\n",
       "      <td>F1</td>\n",
       "      <td>Somewhat Agree</td>\n",
       "      <td>No</td>\n",
       "    </tr>\n",
       "    <tr>\n",
       "      <th>2</th>\n",
       "      <td>3</td>\n",
       "      <td>F1</td>\n",
       "      <td>Strongly Agree</td>\n",
       "      <td>No</td>\n",
       "    </tr>\n",
       "    <tr>\n",
       "      <th>3</th>\n",
       "      <td>4</td>\n",
       "      <td>F1</td>\n",
       "      <td>Somewhat Agree</td>\n",
       "      <td>No</td>\n",
       "    </tr>\n",
       "    <tr>\n",
       "      <th>4</th>\n",
       "      <td>5</td>\n",
       "      <td>F1</td>\n",
       "      <td>Strongly Agree</td>\n",
       "      <td>No</td>\n",
       "    </tr>\n",
       "  </tbody>\n",
       "</table>\n",
       "</div>"
      ],
      "text/plain": [
       "   ID Question        Response Needs Reverse Coding?\n",
       "0   1       F1  Somewhat Agree                    No\n",
       "1   2       F1  Somewhat Agree                    No\n",
       "2   3       F1  Strongly Agree                    No\n",
       "3   4       F1  Somewhat Agree                    No\n",
       "4   5       F1  Strongly Agree                    No"
      ]
     },
     "execution_count": 37,
     "metadata": {},
     "output_type": "execute_result"
    }
   ],
   "source": [
    "(survey\n",
    ">> gather('Question', 'Response', columns_from('F1'))\n",
    ">> left_join(reverse_coding, by='Question')\n",
    ">> drop('Construct',\n",
    "        'Question # on Qualtrics Survey',\n",
    "        'Column Name')\n",
    ">> head())"
   ]
  },
  {
   "cell_type": "code",
   "execution_count": 32,
   "id": "5c220e05",
   "metadata": {},
   "outputs": [
    {
     "data": {
      "text/plain": [
       "{'Strongly Agree': 5,\n",
       " 'Somewhat Agree': 4,\n",
       " 'Neither Agree nor Disagree': 3,\n",
       " 'Somewhat Disagree': 2,\n",
       " 'Strongly Disagree': 1}"
      ]
     },
     "execution_count": 32,
     "metadata": {},
     "output_type": "execute_result"
    }
   ],
   "source": [
    "reg_coding = {'Strongly Agree':5,\n",
    "              'Somewhat Agree':4,\n",
    "              'Neither Agree nor Disagree':3,\n",
    "              'Somewhat Disagree':2,\n",
    "              'Strongly Disagree':1}\n",
    "\n",
    "reg_coding              "
   ]
  },
  {
   "cell_type": "code",
   "execution_count": 33,
   "id": "b4c5f9fd",
   "metadata": {},
   "outputs": [
    {
     "data": {
      "text/plain": [
       "{'Strongly Agree': 1,\n",
       " 'Somewhat Agree': 2,\n",
       " 'Neither Agree nor Disagree': 3,\n",
       " 'Somewhat Disagree': 4,\n",
       " 'Strongly Disagree': 5}"
      ]
     },
     "execution_count": 33,
     "metadata": {},
     "output_type": "execute_result"
    }
   ],
   "source": [
    "rev_coding = {resp:6 - score for resp, score in reg_coding.items()}\n",
    "rev_coding"
   ]
  },
  {
   "cell_type": "code",
   "execution_count": 44,
   "id": "8cf34cd4",
   "metadata": {},
   "outputs": [
    {
     "data": {
      "text/html": [
       "<div>\n",
       "<style scoped>\n",
       "    .dataframe tbody tr th:only-of-type {\n",
       "        vertical-align: middle;\n",
       "    }\n",
       "\n",
       "    .dataframe tbody tr th {\n",
       "        vertical-align: top;\n",
       "    }\n",
       "\n",
       "    .dataframe thead th {\n",
       "        text-align: right;\n",
       "    }\n",
       "</style>\n",
       "<table border=\"1\" class=\"dataframe\">\n",
       "  <thead>\n",
       "    <tr style=\"text-align: right;\">\n",
       "      <th></th>\n",
       "      <th>Participant</th>\n",
       "      <th>F1</th>\n",
       "      <th>F2</th>\n",
       "      <th>F3</th>\n",
       "      <th>F4</th>\n",
       "      <th>F5</th>\n",
       "      <th>F6</th>\n",
       "    </tr>\n",
       "  </thead>\n",
       "  <tbody>\n",
       "    <tr>\n",
       "      <th>0</th>\n",
       "      <td>1</td>\n",
       "      <td>31</td>\n",
       "      <td>48</td>\n",
       "      <td>20</td>\n",
       "      <td>17</td>\n",
       "      <td>28</td>\n",
       "      <td>18</td>\n",
       "    </tr>\n",
       "    <tr>\n",
       "      <th>1</th>\n",
       "      <td>2</td>\n",
       "      <td>31</td>\n",
       "      <td>47</td>\n",
       "      <td>19</td>\n",
       "      <td>17</td>\n",
       "      <td>27</td>\n",
       "      <td>20</td>\n",
       "    </tr>\n",
       "    <tr>\n",
       "      <th>2</th>\n",
       "      <td>3</td>\n",
       "      <td>36</td>\n",
       "      <td>46</td>\n",
       "      <td>19</td>\n",
       "      <td>18</td>\n",
       "      <td>32</td>\n",
       "      <td>17</td>\n",
       "    </tr>\n",
       "    <tr>\n",
       "      <th>3</th>\n",
       "      <td>4</td>\n",
       "      <td>32</td>\n",
       "      <td>54</td>\n",
       "      <td>12</td>\n",
       "      <td>15</td>\n",
       "      <td>30</td>\n",
       "      <td>16</td>\n",
       "    </tr>\n",
       "    <tr>\n",
       "      <th>4</th>\n",
       "      <td>5</td>\n",
       "      <td>37</td>\n",
       "      <td>47</td>\n",
       "      <td>22</td>\n",
       "      <td>19</td>\n",
       "      <td>36</td>\n",
       "      <td>19</td>\n",
       "    </tr>\n",
       "  </tbody>\n",
       "</table>\n",
       "</div>"
      ],
      "text/plain": [
       "   Participant  F1  F2  F3  F4  F5  F6\n",
       "0            1  31  48  20  17  28  18\n",
       "1            2  31  47  19  17  27  20\n",
       "2            3  36  46  19  18  32  17\n",
       "3            4  32  54  12  15  30  16\n",
       "4            5  37  47  22  19  36  19"
      ]
     },
     "execution_count": 44,
     "metadata": {},
     "output_type": "execute_result"
    }
   ],
   "source": [
    "from more_dfply import ifelse\n",
    "\n",
    "(survey\n",
    ">> gather('Question', 'Response', columns_from('F1'))\n",
    ">> left_join(reverse_coding, by='Question')\n",
    ">> drop('Construct', 'Question # on Qualtrics Survey', 'Column Name')\n",
    ">> mutate(question_type = (X.Question\n",
    "                            .str.split('_')\n",
    "                            .str.get(0)),\n",
    "          coded_value = ifelse(X['Needs Reverse Coding?'] == \"Yes\",\n",
    "                                X.Response.map(rev_coding),\n",
    "                                X.Response.map(reg_coding),\n",
    "                                ).astype('Int64')\n",
    "\n",
    ")  \n",
    ">> group_by(X.ID, X.question_type)\n",
    ">> summarise(total_coded_value = X.coded_value.sum())\n",
    ">> spread(X.question_type, X.total_coded_value)\n",
    ">> rename(Participant = 'ID')\n",
    ">> head )\n"
   ]
  },
  {
   "cell_type": "markdown",
   "id": "73bd43b9",
   "metadata": {},
   "source": [
    "3.  Make a new column called *Needs Reverse* by joining on\n",
    "    the `\"Yes\"` or `\"No\"` values from the *Needs Reverse Coding?* from **ReverseCodingItems.csv.**\n",
    "\n",
    "> <img src=\"img/media/image2.png\"\n",
    "> style=\"width:3.78315in;\"\n",
    "> alt=\"../../../../Desktop/Screen%20Shot%202018-03-22%20at%201.35.26%20\" />\n",
    "\n",
    "Start by copying and adding to the pipe from the previous cell. In practice, you would continue to work in the same cell, but we are illustrating the standard best practice in working with data, by continually cycling through the following steps\n",
    "\n",
    "1. Add the next step\n",
    "2. Rerun your code to test.\n",
    "\n",
    "I want to verify that you are following this practice, which is why we will be copying our previous code to the next step"
   ]
  },
  {
   "cell_type": "code",
   "execution_count": 1,
   "id": "18d5c460",
   "metadata": {},
   "outputs": [],
   "source": [
    "# Copy your last pipe and edit the code here"
   ]
  },
  {
   "cell_type": "markdown",
   "id": "e878fabe",
   "metadata": {},
   "source": [
    "4.   We already created a `dict` for the regular coding.  Make a `dict` for the reverse coding using a `dict` comprehension.  Remember to use the `items` method and two names to iterate through the original `dict`.  Use subtraction."
   ]
  },
  {
   "cell_type": "code",
   "execution_count": 1,
   "id": "57043a0f",
   "metadata": {},
   "outputs": [],
   "source": [
    "# Copy your last pipe and edit the code here"
   ]
  },
  {
   "cell_type": "markdown",
   "id": "c40fe52e",
   "metadata": {},
   "source": [
    "5.   Next we need to make a column with the question type.  For example, all questions that start with `F1`, like `F1` and `F1_1`, need to be coded as `F1`.  Add a `mutate` to create this column using one of the string transformations (extract, split, etc.) from this module.\n",
    "\n",
    "> <img src=\"img/media/image6.png\"\n",
    "> style=\"width:2.97769in;\"\n",
    "> alt=\"../../../../Desktop/Screen%20Shot%202018-03-22%20at%201.45.03%20\" />"
   ]
  },
  {
   "cell_type": "code",
   "execution_count": 1,
   "id": "9dc77f04",
   "metadata": {},
   "outputs": [],
   "source": [
    "# Copy your last pipe and edit the code here"
   ]
  },
  {
   "cell_type": "markdown",
   "id": "b02d27e4",
   "metadata": {},
   "source": [
    "6.  Make a new column by *Recoding* the Question Types to *F1, F2, …,\n",
    "    F6.* based on the `Question Type`. **Hint:** You might want to use the `dfply.ifelse`.\n",
    "\n",
    "> <img src=\"img/media/image6.png\"\n",
    "> style=\"width:2.97769in;\"\n",
    "> alt=\"../../../../Desktop/Screen%20Shot%202018-03-22%20at%201.45.03%20\" />"
   ]
  },
  {
   "cell_type": "code",
   "execution_count": 1,
   "id": "3f8be6d9",
   "metadata": {},
   "outputs": [],
   "source": [
    "# Copy your last pipe and edit the code here"
   ]
  },
  {
   "cell_type": "markdown",
   "id": "1c998706",
   "metadata": {},
   "source": [
    "7.  *Aggregate* and *unstack.*\n",
    "\n",
    "> <img src=\"img/media/image7.png\"\n",
    "> style=\"width:2.46321in;\"\n",
    "> alt=\"../../../../Desktop/Screen%20Shot%202018-03-22%20at%201.46.11%20\" />\n",
    "> <img src=\"img/media/image8.png\"\n",
    "> style=\"width:2.96893in;\"\n",
    "> alt=\"../../../../Desktop/Screen%20Shot%202018-03-22%20at%201.46.34%20\" />"
   ]
  },
  {
   "cell_type": "code",
   "execution_count": 1,
   "id": "8a446e35",
   "metadata": {},
   "outputs": [],
   "source": [
    "# Copy your last pipe and edit the code here"
   ]
  },
  {
   "cell_type": "markdown",
   "id": "38ede7e9",
   "metadata": {},
   "source": [
    "8.  Save the table to a csv file in the `data` folder."
   ]
  },
  {
   "cell_type": "code",
   "execution_count": 1,
   "id": "f9fcfa43",
   "metadata": {},
   "outputs": [],
   "source": [
    "# Your code here"
   ]
  },
  {
   "cell_type": "markdown",
   "id": "cfe52c47",
   "metadata": {},
   "source": [
    "**Deliverables.** Submit this document with your answer to question 1,\n",
    "the JMP file containing the results of Part 1, and a csv file with your\n",
    "final table."
   ]
  }
 ],
 "metadata": {
  "kernelspec": {
   "display_name": "Python 3.9.12 64-bit ('base')",
   "language": "python",
   "name": "python3"
  },
  "language_info": {
   "codemirror_mode": {
    "name": "ipython",
    "version": 3
   },
   "file_extension": ".py",
   "mimetype": "text/x-python",
   "name": "python",
   "nbconvert_exporter": "python",
   "pygments_lexer": "ipython3",
   "version": "3.9.12"
  },
  "vscode": {
   "interpreter": {
    "hash": "7efe307e9f8367d825393b0fdecab26d5295c1d6bdd74831a167f6027e27a6db"
   }
  }
 },
 "nbformat": 4,
 "nbformat_minor": 5
}
